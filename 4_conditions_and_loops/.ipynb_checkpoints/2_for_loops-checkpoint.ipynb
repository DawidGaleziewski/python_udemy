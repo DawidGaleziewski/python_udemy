{
 "cells": [
  {
   "cell_type": "markdown",
   "metadata": {},
   "source": [
    "Many objects are iterable - we can iterate over the object:\n",
    "- strings\n",
    "- lists\n",
    "- dictionaries"
   ]
  },
  {
   "cell_type": "code",
   "execution_count": 1,
   "metadata": {},
   "outputs": [
    {
     "name": "stdout",
     "output_type": "stream",
     "text": [
      "1\n",
      "2\n",
      "3\n"
     ]
    }
   ],
   "source": [
    "my_list = [1,2,3]\n",
    "# syntrax for <placeholder_item_name> in <var_name>\n",
    "for item in my_list:\n",
    "    print(item)"
   ]
  },
  {
   "cell_type": "code",
   "execution_count": 16,
   "metadata": {},
   "outputs": [
    {
     "name": "stdout",
     "output_type": "stream",
     "text": [
      "\\(^<^\\)~~~~hey~~~~\\(^<^\\)\n",
      "\\(^<^\\)~~~~hey~~~~\\(^<^\\)\n",
      "\\(^V^)/~~~~Rasputin~~~~\\(^V^)/\n",
      "~~~~Lover~~~~\n",
      "~~~~of the~~~~\n",
      "~~~~Russian~~~~\n",
      "~~~~Team~~~~\n"
     ]
    }
   ],
   "source": [
    "song_text = ['hey', 'hey', 'Rasputin', 'Lover', 'of the', 'Russian', 'Team']\n",
    "\n",
    "for word in song_text:\n",
    "    meme = ''\n",
    "    if word == 'hey':\n",
    "        meme = '\\(^<^\\)'\n",
    "    elif word == 'Rasputin':\n",
    "        meme = '\\(^V^)/'\n",
    "    elif word == 'Lover':\n",
    "        meme == '<3'\n",
    "    print('{m}~~~~'.format(m = meme) + word + '~~~~{m}'.format(m = meme))"
   ]
  },
  {
   "cell_type": "code",
   "execution_count": 23,
   "metadata": {},
   "outputs": [
    {
     "name": "stdout",
     "output_type": "stream",
     "text": [
      "Item 2 is even\n",
      "Item 4 is even\n",
      "Item 6 is even\n",
      "Item 8 is even\n",
      "Item 10 is even\n"
     ]
    }
   ],
   "source": [
    "my_list = [1,2,3,4,5,6,7,8,9,10]\n",
    "\n",
    "# print even numbers\n",
    "for item in my_list:\n",
    "    if item%2 == 0:\n",
    "        print(f'Item {item} is even')"
   ]
  },
  {
   "cell_type": "code",
   "execution_count": 24,
   "metadata": {},
   "outputs": [
    {
     "name": "stdout",
     "output_type": "stream",
     "text": [
      "Item 1 is odd\n",
      "Item 3 is odd\n",
      "Item 5 is odd\n",
      "Item 7 is odd\n",
      "Item 9 is odd\n"
     ]
    }
   ],
   "source": [
    "#print odd numbers\n",
    "for item in my_list:\n",
    "    if item%2 != 0:\n",
    "        print(f'Item {item} is odd')"
   ]
  },
  {
   "cell_type": "code",
   "execution_count": 26,
   "metadata": {},
   "outputs": [
    {
     "data": {
      "text/plain": [
       "55"
      ]
     },
     "execution_count": 26,
     "metadata": {},
     "output_type": "execute_result"
    }
   ],
   "source": [
    "list_sum = 0\n",
    "for item in my_list:\n",
    "    list_sum += item\n",
    "list_sum"
   ]
  },
  {
   "cell_type": "code",
   "execution_count": 27,
   "metadata": {},
   "outputs": [
    {
     "name": "stdout",
     "output_type": "stream",
     "text": [
      "S\n",
      "c\n",
      "r\n",
      "u\n",
      "m\n",
      " \n",
      "i\n",
      "s\n",
      " \n",
      "a\n",
      " \n",
      "h\n",
      "o\n",
      "a\n",
      "x\n"
     ]
    }
   ],
   "source": [
    "# we can do same with strings\n",
    "my_string = 'Scrum is a hoax'\n",
    "\n",
    "for letter in my_string:\n",
    "    print(letter)"
   ]
  },
  {
   "cell_type": "code",
   "execution_count": 28,
   "metadata": {},
   "outputs": [
    {
     "name": "stdout",
     "output_type": "stream",
     "text": [
      "Coool!\n",
      "Coool!\n",
      "Coool!\n",
      "Coool!\n",
      "Coool!\n",
      "Coool!\n",
      "Coool!\n",
      "Coool!\n",
      "Coool!\n",
      "Coool!\n",
      "Coool!\n",
      "Coool!\n",
      "Coool!\n",
      "Coool!\n",
      "Coool!\n",
      "Coool!\n",
      "Coool!\n",
      "Coool!\n",
      "Coool!\n",
      "Coool!\n",
      "Coool!\n",
      "Coool!\n"
     ]
    }
   ],
   "source": [
    "# common syntax if you do not intend to use the item in the iterable is _\n",
    "for _ in 'Helllllllloooooooooooo':\n",
    "    print('Coool!')"
   ]
  },
  {
   "cell_type": "code",
   "execution_count": 29,
   "metadata": {},
   "outputs": [
    {
     "name": "stdout",
     "output_type": "stream",
     "text": [
      "1\n",
      "2\n",
      "3\n"
     ]
    }
   ],
   "source": [
    "tup = (1,2,3)\n",
    "\n",
    "for item in tup:\n",
    "    print(item)"
   ]
  },
  {
   "cell_type": "code",
   "execution_count": 34,
   "metadata": {},
   "outputs": [
    {
     "name": "stdout",
     "output_type": "stream",
     "text": [
      "(1, 2)\n",
      "(3, 4)\n",
      "(7, 8)\n"
     ]
    }
   ],
   "source": [
    "#if we iterate on the list that contains the tuples we can do tuple unpacking\n",
    "\n",
    "# normal tuple iterations\n",
    "tuple_list = [(1,2), (3,4), (7,8)]\n",
    "for tup in tuple_list:\n",
    "    print(tup)"
   ]
  },
  {
   "cell_type": "code",
   "execution_count": 35,
   "metadata": {},
   "outputs": [
    {
     "name": "stdout",
     "output_type": "stream",
     "text": [
      "1\n",
      "2\n",
      "3\n",
      "4\n",
      "7\n",
      "8\n"
     ]
    }
   ],
   "source": [
    "# tuple unpacking\n",
    "for (a,b) in tuple_list:\n",
    "    print(a)\n",
    "    print(b)"
   ]
  },
  {
   "cell_type": "code",
   "execution_count": 36,
   "metadata": {},
   "outputs": [
    {
     "name": "stdout",
     "output_type": "stream",
     "text": [
      "1\n",
      "2\n",
      "3\n",
      "4\n",
      "7\n",
      "8\n"
     ]
    }
   ],
   "source": [
    "# alter syntax\n",
    "for a,b in tuple_list:\n",
    "    print(a)\n",
    "    print(b)"
   ]
  },
  {
   "cell_type": "code",
   "execution_count": 37,
   "metadata": {},
   "outputs": [
    {
     "name": "stdout",
     "output_type": "stream",
     "text": [
      "2\n",
      "6\n",
      "9\n"
     ]
    }
   ],
   "source": [
    "my_list = [(1,2,3), (5,6,7), (8, 9, 10)]\n",
    "\n",
    "for a,b,c in my_list:\n",
    "    print(b)"
   ]
  },
  {
   "cell_type": "code",
   "execution_count": 38,
   "metadata": {},
   "outputs": [
    {
     "name": "stdout",
     "output_type": "stream",
     "text": [
      "k1\n",
      "k2\n",
      "k3\n"
     ]
    }
   ],
   "source": [
    "# iterate over dictionary\n",
    "my_dict = {'k1' : 1, 'k2' : 2, 'k3': 3}\n",
    "for item in my_dict:\n",
    "    # by default we iterate only over the key\n",
    "    print(item)"
   ]
  },
  {
   "cell_type": "code",
   "execution_count": 40,
   "metadata": {},
   "outputs": [
    {
     "name": "stdout",
     "output_type": "stream",
     "text": [
      "('k1', 1)\n",
      "('k2', 2)\n",
      "('k3', 3)\n"
     ]
    }
   ],
   "source": [
    "# if we want to iterate over items we need convert dictionary into tuples by .items() method\n",
    "for key, value in my_dict.items():\n",
    "    print(item)"
   ]
  },
  {
   "cell_type": "code",
   "execution_count": null,
   "metadata": {},
   "outputs": [],
   "source": []
  }
 ],
 "metadata": {
  "kernelspec": {
   "display_name": "Python 3",
   "language": "python",
   "name": "python3"
  },
  "language_info": {
   "codemirror_mode": {
    "name": "ipython",
    "version": 3
   },
   "file_extension": ".py",
   "mimetype": "text/x-python",
   "name": "python",
   "nbconvert_exporter": "python",
   "pygments_lexer": "ipython3",
   "version": "3.8.5"
  }
 },
 "nbformat": 4,
 "nbformat_minor": 4
}
