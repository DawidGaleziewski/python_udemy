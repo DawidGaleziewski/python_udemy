{
 "cells": [
  {
   "cell_type": "markdown",
   "metadata": {},
   "source": [
    "IMPORTANT - control flow in python makes use of colons and indentation\n",
    "indentations/whitespace is very important in python"
   ]
  },
  {
   "cell_type": "code",
   "execution_count": 1,
   "metadata": {},
   "outputs": [
    {
     "name": "stdout",
     "output_type": "stream",
     "text": [
      "HELLO there\n"
     ]
    }
   ],
   "source": [
    "if 2 == 2:\n",
    "    print('HELLO there')"
   ]
  },
  {
   "cell_type": "code",
   "execution_count": 4,
   "metadata": {},
   "outputs": [
    {
     "name": "stdout",
     "output_type": "stream",
     "text": [
      "else condition here\n"
     ]
    }
   ],
   "source": [
    "#else\n",
    "if 2 > 3:\n",
    "    print('wont be printed')\n",
    "elif 2 != 2:\n",
    "    print('Hi')\n",
    "else:\n",
    "    print('else condition here')"
   ]
  },
  {
   "cell_type": "markdown",
   "metadata": {},
   "source": [
    "if end else should be indented on same level"
   ]
  },
  {
   "cell_type": "code",
   "execution_count": 6,
   "metadata": {},
   "outputs": [
    {
     "name": "stdout",
     "output_type": "stream",
     "text": [
      "Hello Tim\n"
     ]
    }
   ],
   "source": [
    "name = 'Tim'\n",
    "if name == 'Sandra':\n",
    "    print('Hello Sandra')\n",
    "elif name == 'Tim':\n",
    "    print('Hello Tim')\n",
    "else:\n",
    "    print('I dont know you')"
   ]
  },
  {
   "cell_type": "code",
   "execution_count": 8,
   "metadata": {},
   "outputs": [
    {
     "name": "stdout",
     "output_type": "stream",
     "text": [
      "I am not hungry\n"
     ]
    }
   ],
   "source": [
    "hungry = False\n",
    "\n",
    "if hungry:\n",
    "    print('FEED ME!')\n",
    "else:\n",
    "    print('I am not hungry')"
   ]
  },
  {
   "cell_type": "code",
   "execution_count": 22,
   "metadata": {},
   "outputs": [
    {
     "data": {
      "text/plain": [
       "(0, None)"
      ]
     },
     "execution_count": 22,
     "metadata": {},
     "output_type": "execute_result"
    }
   ],
   "source": [
    "location = 'Dodgy area'\n",
    "\n",
    "cart = None\n",
    "wallet = 10000\n",
    "\n",
    "if location == 'Auto Shop':\n",
    "   wallet -= 10000\n",
    "   cart = ['Audi']\n",
    "elif location == 'Bank':\n",
    "   wallet += 2000\n",
    "else: \n",
    "    wallet = 0;\n",
    "    cart = None\n",
    "\n",
    "tuple([wallet, cart])"
   ]
  },
  {
   "cell_type": "code",
   "execution_count": null,
   "metadata": {},
   "outputs": [],
   "source": []
  }
 ],
 "metadata": {
  "kernelspec": {
   "display_name": "Python 3",
   "language": "python",
   "name": "python3"
  },
  "language_info": {
   "codemirror_mode": {
    "name": "ipython",
    "version": 3
   },
   "file_extension": ".py",
   "mimetype": "text/x-python",
   "name": "python",
   "nbconvert_exporter": "python",
   "pygments_lexer": "ipython3",
   "version": "3.8.5"
  }
 },
 "nbformat": 4,
 "nbformat_minor": 4
}
