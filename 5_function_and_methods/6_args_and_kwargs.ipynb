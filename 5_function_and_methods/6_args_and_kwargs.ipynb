{
 "cells": [
  {
   "cell_type": "code",
   "execution_count": 3,
   "metadata": {},
   "outputs": [
    {
     "data": {
      "text/plain": [
       "5.0"
      ]
     },
     "execution_count": 3,
     "metadata": {},
     "output_type": "execute_result"
    }
   ],
   "source": [
    "#*args = arguments\n",
    "# *kwargs = keyword arguments\n",
    "\n",
    "#using positional arguments\n",
    "def myfunc(a,b):\n",
    "    # returns 5% of the sum of a and b\n",
    "    return (a + b) * 0.05\n",
    "myfunc(40,60)"
   ]
  },
  {
   "cell_type": "code",
   "execution_count": 14,
   "metadata": {},
   "outputs": [
    {
     "name": "stdout",
     "output_type": "stream",
     "text": [
      "(20, 30, 50, 100)\n"
     ]
    },
    {
     "data": {
      "text/plain": [
       "10.0"
      ]
     },
     "execution_count": 14,
     "metadata": {},
     "output_type": "execute_result"
    }
   ],
   "source": [
    "# passing \n",
    "def args_my_func(*args):\n",
    "    # args are a tuple\n",
    "    print(args)\n",
    "    return sum(args) * 0.05\n",
    "\n",
    "args_my_func(20,30,50, 100)"
   ]
  },
  {
   "cell_type": "code",
   "execution_count": 17,
   "metadata": {},
   "outputs": [
    {
     "name": "stdout",
     "output_type": "stream",
     "text": [
      "1\n",
      "2\n",
      "3\n"
     ]
    },
    {
     "data": {
      "text/plain": [
       "6"
      ]
     },
     "execution_count": 17,
     "metadata": {},
     "output_type": "execute_result"
    }
   ],
   "source": [
    "#by convention we use *args but the way it works is the * represents it. We can use other keywords\n",
    "def test_func(*salami):\n",
    "    for item in salami:\n",
    "        print(item)\n",
    "    return sum(salami)\n",
    "\n",
    "test_func(1,2,3)"
   ]
  },
  {
   "cell_type": "code",
   "execution_count": 24,
   "metadata": {},
   "outputs": [
    {
     "name": "stdout",
     "output_type": "stream",
     "text": [
      "{'fruit': 'apple', 'price': 2, 'expiration_date': '12.12.2020'}\n",
      "My fruit of choice is apple\n"
     ]
    }
   ],
   "source": [
    "# kwargs - dictionary of key value pairs\n",
    "def myfunc(**kwargs):\n",
    "    print(kwargs)\n",
    "    \n",
    "    if 'fruit' in kwargs:\n",
    "        fruit_name = kwargs['fruit']\n",
    "        print('My fruit of choice is {}'.format(fruit_name))\n",
    "\n",
    "myfunc(fruit='apple', price=2, expiration_date= '12.12.2020')"
   ]
  },
  {
   "cell_type": "code",
   "execution_count": 26,
   "metadata": {},
   "outputs": [
    {
     "name": "stdout",
     "output_type": "stream",
     "text": [
      "I would like 10 eggs\n"
     ]
    }
   ],
   "source": [
    "# we can use args and kwargs in function arguments at the same time\n",
    "def myfunc(*args, **kwargs):\n",
    "    print('I would like {} {}'.format(args[0], kwargs['food']))\n",
    "    \n",
    "myfunc(10,20,30, food='eggs')"
   ]
  },
  {
   "cell_type": "code",
   "execution_count": 28,
   "metadata": {},
   "outputs": [
    {
     "data": {
      "text/plain": [
       "[2, 4]"
      ]
     },
     "execution_count": 28,
     "metadata": {},
     "output_type": "execute_result"
    }
   ],
   "source": [
    "def myfunc(*args):\n",
    "    filtered_list = []\n",
    "    for num in args:\n",
    "        if num%2==0:\n",
    "            filtered_list.append(num)\n",
    "    return filtered_list\n",
    "\n",
    "myfunc(1,2,3,4)"
   ]
  },
  {
   "cell_type": "code",
   "execution_count": 38,
   "metadata": {},
   "outputs": [
    {
     "data": {
      "text/plain": [
       "'TeTeTeTeT'"
      ]
     },
     "execution_count": 38,
     "metadata": {},
     "output_type": "execute_result"
    }
   ],
   "source": [
    "def myfunc(sentence):\n",
    "    formated_string = ''\n",
    "    \n",
    "    for index, char in enumerate(sentence):\n",
    "        if index%2 == 0:\n",
    "            formated_string += char.upper()\n",
    "        else:\n",
    "            formated_string += char.lower()\n",
    "    return formated_string\n",
    "    \n",
    "myfunc('tetetetet')"
   ]
  },
  {
   "cell_type": "code",
   "execution_count": 35,
   "metadata": {},
   "outputs": [
    {
     "data": {
      "text/plain": [
       "'t'"
      ]
     },
     "execution_count": 35,
     "metadata": {},
     "output_type": "execute_result"
    }
   ],
   "source": [
    "'t'.lower()"
   ]
  },
  {
   "cell_type": "code",
   "execution_count": null,
   "metadata": {},
   "outputs": [],
   "source": []
  }
 ],
 "metadata": {
  "kernelspec": {
   "display_name": "Python 3",
   "language": "python",
   "name": "python3"
  },
  "language_info": {
   "codemirror_mode": {
    "name": "ipython",
    "version": 3
   },
   "file_extension": ".py",
   "mimetype": "text/x-python",
   "name": "python",
   "nbconvert_exporter": "python",
   "pygments_lexer": "ipython3",
   "version": "3.8.5"
  }
 },
 "nbformat": 4,
 "nbformat_minor": 4
}
