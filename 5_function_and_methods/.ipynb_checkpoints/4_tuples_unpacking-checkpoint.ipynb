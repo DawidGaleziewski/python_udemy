{
 "cells": [
  {
   "cell_type": "code",
   "execution_count": 1,
   "metadata": {},
   "outputs": [
    {
     "name": "stdout",
     "output_type": "stream",
     "text": [
      "200\n",
      "300\n",
      "100\n",
      "200\n"
     ]
    }
   ],
   "source": [
    "stock_prices = [('APPLE', 200), ('GOOGLE', 300), ('HULU', 100), ('MFS', 200)]\n",
    "\n",
    "# same as with loops\n",
    "for ticker, price in stock_prices:\n",
    "    print(price)"
   ]
  },
  {
   "cell_type": "code",
   "execution_count": 8,
   "metadata": {},
   "outputs": [
    {
     "name": "stdout",
     "output_type": "stream",
     "text": [
      "APPLE 200 0\n",
      "GOOGLE 300 200\n",
      "HULU 100 300\n",
      "MFS 200 300\n"
     ]
    },
    {
     "data": {
      "text/plain": [
       "('GOOGLE', 300)"
      ]
     },
     "execution_count": 8,
     "metadata": {},
     "output_type": "execute_result"
    }
   ],
   "source": [
    "# we can unpack tuples in function\n",
    "def bond_price_check(bonds):\n",
    "    current_max = 0\n",
    "    top_stock_price_company = ''\n",
    "    for company_name, price in bonds:\n",
    "        if price > current_max:\n",
    "            current_max = price\n",
    "            top_stock_price_company = company_name\n",
    "        else:\n",
    "            pass\n",
    "    return (top_stock_price_company, current_max)\n",
    "\n",
    "bond_price_check(stock_prices)"
   ]
  },
  {
   "cell_type": "code",
   "execution_count": 9,
   "metadata": {},
   "outputs": [
    {
     "name": "stdout",
     "output_type": "stream",
     "text": [
      "APPLE 200 0\n",
      "GOOGLE 300 200\n",
      "HULU 100 300\n",
      "MFS 200 300\n"
     ]
    }
   ],
   "source": [
    "# we can unpack the result of the function to a variables with tuple unpacking\n",
    "name, price = bond_price_check(stock_prices)"
   ]
  },
  {
   "cell_type": "code",
   "execution_count": null,
   "metadata": {},
   "outputs": [],
   "source": []
  }
 ],
 "metadata": {
  "kernelspec": {
   "display_name": "Python 3",
   "language": "python",
   "name": "python3"
  },
  "language_info": {
   "codemirror_mode": {
    "name": "ipython",
    "version": 3
   },
   "file_extension": ".py",
   "mimetype": "text/x-python",
   "name": "python",
   "nbconvert_exporter": "python",
   "pygments_lexer": "ipython3",
   "version": "3.8.5"
  }
 },
 "nbformat": 4,
 "nbformat_minor": 4
}
