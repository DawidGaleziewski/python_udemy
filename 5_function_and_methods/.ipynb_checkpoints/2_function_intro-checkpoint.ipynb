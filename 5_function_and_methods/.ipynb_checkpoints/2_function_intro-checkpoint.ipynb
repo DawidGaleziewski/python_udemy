{
 "cells": [
  {
   "cell_type": "code",
   "execution_count": 6,
   "metadata": {},
   "outputs": [
    {
     "name": "stdout",
     "output_type": "stream",
     "text": [
      "my test function call: my argument there, second one\n"
     ]
    }
   ],
   "source": [
    "# def keyword is required for a function\n",
    "# functtion names use snake casing\n",
    "def my_test_function(argument_1, argument_2):\n",
    "    #functions use indentation\n",
    "    print(f'my test function call: {argument_1}, {argument_2}')\n",
    "    \n",
    "my_test_function('my argument there', 'second one')"
   ]
  },
  {
   "cell_type": "code",
   "execution_count": 9,
   "metadata": {},
   "outputs": [
    {
     "data": {
      "text/plain": [
       "4"
      ]
     },
     "execution_count": 9,
     "metadata": {},
     "output_type": "execute_result"
    }
   ],
   "source": [
    "# returning a value of a function\n",
    "def multiply(num1, num2):\n",
    "    return num1 * num2\n",
    "\n",
    "new_var_here = multiply(2, 2)\n",
    "new_var_here"
   ]
  },
  {
   "cell_type": "code",
   "execution_count": null,
   "metadata": {},
   "outputs": [],
   "source": []
  }
 ],
 "metadata": {
  "kernelspec": {
   "display_name": "Python 3",
   "language": "python",
   "name": "python3"
  },
  "language_info": {
   "codemirror_mode": {
    "name": "ipython",
    "version": 3
   },
   "file_extension": ".py",
   "mimetype": "text/x-python",
   "name": "python",
   "nbconvert_exporter": "python",
   "pygments_lexer": "ipython3",
   "version": "3.8.5"
  }
 },
 "nbformat": 4,
 "nbformat_minor": 4
}
