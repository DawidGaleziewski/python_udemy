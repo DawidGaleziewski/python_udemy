{
 "cells": [
  {
   "cell_type": "code",
   "execution_count": null,
   "metadata": {},
   "outputs": [],
   "source": [
    "# by class we can create user defined objects"
   ]
  },
  {
   "cell_type": "code",
   "execution_count": 7,
   "metadata": {},
   "outputs": [
    {
     "data": {
      "text/plain": [
       "__main__.SampleWord"
      ]
     },
     "execution_count": 7,
     "metadata": {},
     "output_type": "execute_result"
    }
   ],
   "source": [
    "# class name should be capitalised cammel case\n",
    "class SampleWord():\n",
    "    pass\n",
    "\n",
    "# we call class same like function to create a instance of it\n",
    "instance = SampleWord()\n",
    "\n",
    "type(instance)"
   ]
  },
  {
   "cell_type": "code",
   "execution_count": 13,
   "metadata": {},
   "outputs": [
    {
     "name": "stdout",
     "output_type": "stream",
     "text": [
      "<__main__.Player object at 0x00000226D91AA340>\n",
      "32\n"
     ]
    }
   ],
   "source": [
    "class Player():\n",
    "    # init will be called when instance is created\n",
    "    # init is a constructor of a class\n",
    "    # self represents a instance of a object itself\n",
    "    def __init__(self, name, level):\n",
    "        # Attributes\n",
    "        self.name = name\n",
    "        self.level = level\n",
    "\n",
    "john_doe = Player('Sam', 32)\n",
    "print(john_doe)\n",
    "print(john_doe.level)"
   ]
  },
  {
   "cell_type": "code",
   "execution_count": null,
   "metadata": {},
   "outputs": [],
   "source": []
  }
 ],
 "metadata": {
  "kernelspec": {
   "display_name": "Python 3",
   "language": "python",
   "name": "python3"
  },
  "language_info": {
   "codemirror_mode": {
    "name": "ipython",
    "version": 3
   },
   "file_extension": ".py",
   "mimetype": "text/x-python",
   "name": "python",
   "nbconvert_exporter": "python",
   "pygments_lexer": "ipython3",
   "version": "3.8.5"
  }
 },
 "nbformat": 4,
 "nbformat_minor": 4
}
