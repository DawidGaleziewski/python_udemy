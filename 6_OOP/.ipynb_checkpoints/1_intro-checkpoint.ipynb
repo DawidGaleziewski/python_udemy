{
 "cells": [
  {
   "cell_type": "code",
   "execution_count": null,
   "metadata": {},
   "outputs": [],
   "source": [
    "# in python classes are also called objects\n",
    "# class is best named in cammel case and the name is capitalised\n",
    "\n",
    "class NameOfClass():\n",
    "    # special init method that allows us to create the instance of the actual object\n",
    "    \n",
    "    def __init__(self, param1, param2):\n",
    "        #linking params with object using self keyword\n",
    "        self.param1 = param1\n",
    "        self.param2 = param2\n",
    "     \n",
    "    # custome methods\n",
    "    # in order for python to know this is method connected to the class and not just a function we need to use self keyword as a parm\n",
    "    def some_method(self):\n",
    "        print(self.param1)"
   ]
  }
 ],
 "metadata": {
  "kernelspec": {
   "display_name": "Python 3",
   "language": "python",
   "name": "python3"
  },
  "language_info": {
   "codemirror_mode": {
    "name": "ipython",
    "version": 3
   },
   "file_extension": ".py",
   "mimetype": "text/x-python",
   "name": "python",
   "nbconvert_exporter": "python",
   "pygments_lexer": "ipython3",
   "version": "3.8.5"
  }
 },
 "nbformat": 4,
 "nbformat_minor": 4
}
