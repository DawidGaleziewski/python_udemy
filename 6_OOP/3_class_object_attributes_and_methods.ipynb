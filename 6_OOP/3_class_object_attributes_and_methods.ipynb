{
 "cells": [
  {
   "cell_type": "code",
   "execution_count": 38,
   "metadata": {},
   "outputs": [
    {
     "name": "stdout",
     "output_type": "stream",
     "text": [
      "John attacks Wolf for 26.4\n",
      "John heal back to 112.80000000000001\n",
      "John heal back to 116.80000000000001\n",
      "John heal back to 126.4\n"
     ]
    },
    {
     "data": {
      "text/plain": [
       "'noob'"
      ]
     },
     "execution_count": 38,
     "metadata": {},
     "output_type": "execute_result"
    }
   ],
   "source": [
    "class Player():\n",
    "    # CLASS OBJECT ATTRIBUTE - same for all instances of a class\n",
    "    # we do not use self keyword as self represents the instance\n",
    "    character_class = 'noob'\n",
    "    \n",
    "    def __init__(self, name, level):\n",
    "        self.name = name\n",
    "        self.player_health = 100 + 0.2 * level\n",
    "        self.dmg = 20 + 0.2 * level\n",
    "        \n",
    "        \n",
    "    def attack(self, target):\n",
    "        print(f'{self.name} attacks {target} for {self.dmg}')\n",
    "        \n",
    "    def rest(self, hours):\n",
    "        self.player_health += hours * 0.8\n",
    "        print(f'{self.name} heal back to {self.player_health}')\n",
    "        \n",
    "    def get_class(self):\n",
    "        # we can referance class attributes by using ClassName.attribute\n",
    "        return Player.character_class\n",
    "\n",
    "john_doe = Player(name = \"John\", level= 32)\n",
    "john_doe.attack('Wolf')\n",
    "john_doe.rest(8)\n",
    "john_doe.rest(5)\n",
    "john_doe.rest(12)\n",
    "john_doe.get_class()"
   ]
  },
  {
   "cell_type": "code",
   "execution_count": 35,
   "metadata": {},
   "outputs": [
    {
     "name": "stdout",
     "output_type": "stream",
     "text": [
      "Mona attacks Gobiln for 21.6\n",
      "Mona heal back to 111.19999999999999\n",
      "Mona heal back to 120.79999999999998\n"
     ]
    }
   ],
   "source": [
    "mona = Player(name = 'Mona', level = 8)\n",
    "mona.attack('Gobiln')\n",
    "mona.rest(12)\n",
    "mona.rest(12)"
   ]
  },
  {
   "cell_type": "code",
   "execution_count": 36,
   "metadata": {},
   "outputs": [
    {
     "data": {
      "text/plain": [
       "'noob'"
      ]
     },
     "execution_count": 36,
     "metadata": {},
     "output_type": "execute_result"
    }
   ],
   "source": [
    "mona.character_class"
   ]
  },
  {
   "cell_type": "code",
   "execution_count": 23,
   "metadata": {},
   "outputs": [
    {
     "data": {
      "text/plain": [
       "'noob'"
      ]
     },
     "execution_count": 23,
     "metadata": {},
     "output_type": "execute_result"
    }
   ],
   "source": [
    "john_doe.character_class"
   ]
  },
  {
   "cell_type": "code",
   "execution_count": 25,
   "metadata": {},
   "outputs": [],
   "source": [
    "class Circle():\n",
    "    pi = 3.14\n",
    "    # default value for the radius\n",
    "    def __init__(self, radius=1):\n",
    "        self.radius = radius\n",
    "    \n",
    "    def get_circumfrence(self):\n",
    "        return self.radius * self.pi * 2\n",
    "        \n",
    "        "
   ]
  },
  {
   "cell_type": "code",
   "execution_count": 32,
   "metadata": {},
   "outputs": [],
   "source": [
    "my_circle = Circle()"
   ]
  },
  {
   "cell_type": "code",
   "execution_count": 33,
   "metadata": {},
   "outputs": [
    {
     "data": {
      "text/plain": [
       "6.28"
      ]
     },
     "execution_count": 33,
     "metadata": {},
     "output_type": "execute_result"
    }
   ],
   "source": [
    "my_circle.get_circumfrence()"
   ]
  },
  {
   "cell_type": "code",
   "execution_count": null,
   "metadata": {},
   "outputs": [],
   "source": []
  }
 ],
 "metadata": {
  "kernelspec": {
   "display_name": "Python 3",
   "language": "python",
   "name": "python3"
  },
  "language_info": {
   "codemirror_mode": {
    "name": "ipython",
    "version": 3
   },
   "file_extension": ".py",
   "mimetype": "text/x-python",
   "name": "python",
   "nbconvert_exporter": "python",
   "pygments_lexer": "ipython3",
   "version": "3.8.5"
  }
 },
 "nbformat": 4,
 "nbformat_minor": 4
}
