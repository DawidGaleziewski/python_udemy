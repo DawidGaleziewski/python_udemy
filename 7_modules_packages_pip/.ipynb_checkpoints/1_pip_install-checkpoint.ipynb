{
 "cells": [
  {
   "cell_type": "markdown",
   "metadata": {},
   "source": [
    "Python uses PYPI that is open repository for python packages\n",
    "Similar to NPM\n",
    "\n",
    "we can use pip install at cmd to install those packages\n",
    "i.e:"
   ]
  },
  {
   "cell_type": "markdown",
   "metadata": {},
   "source": [
    "pip install django\n",
    "pip install requests\n",
    "pip install colorama"
   ]
  },
  {
   "cell_type": "code",
   "execution_count": 4,
   "metadata": {},
   "outputs": [
    {
     "name": "stdout",
     "output_type": "stream",
     "text": [
      "some red text\n"
     ]
    }
   ],
   "source": [
    "#import package\n",
    "from colorama import init\n",
    "init()\n",
    "\n",
    "from colorama import Fore\n",
    "print(Fore.RED + \"some red text\")"
   ]
  },
  {
   "cell_type": "markdown",
   "metadata": {},
   "source": [
    "Find package we need in google same as with npm:\n",
    "\"python package for excel\""
   ]
  }
 ],
 "metadata": {
  "kernelspec": {
   "display_name": "Python 3",
   "language": "python",
   "name": "python3"
  },
  "language_info": {
   "codemirror_mode": {
    "name": "ipython",
    "version": 3
   },
   "file_extension": ".py",
   "mimetype": "text/x-python",
   "name": "python",
   "nbconvert_exporter": "python",
   "pygments_lexer": "ipython3",
   "version": "3.8.5"
  }
 },
 "nbformat": 4,
 "nbformat_minor": 4
}
