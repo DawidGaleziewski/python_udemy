{
 "cells": [
  {
   "cell_type": "markdown",
   "metadata": {},
   "source": [
    "Both single and double quotes work in python"
   ]
  },
  {
   "cell_type": "code",
   "execution_count": 2,
   "metadata": {},
   "outputs": [
    {
     "data": {
      "text/plain": [
       "\"She said 'hello' to him\""
      ]
     },
     "execution_count": 2,
     "metadata": {},
     "output_type": "execute_result"
    }
   ],
   "source": [
    "'hello'\n",
    "\"hello\"\n",
    "\n",
    "\"She said 'hello' to him\""
   ]
  },
  {
   "cell_type": "markdown",
   "metadata": {},
   "source": [
    "Strings are ordered sequences, we can use indexing or slicing to get a substring or char"
   ]
  },
  {
   "cell_type": "code",
   "execution_count": 3,
   "metadata": {},
   "outputs": [
    {
     "name": "stdout",
     "output_type": "stream",
     "text": [
      "d\n"
     ]
    }
   ],
   "source": [
    "sentence = \"good enemy is dead enemy\"\n",
    "\n",
    "single_char = sentence[3]\n",
    "\n",
    "print(single_char)"
   ]
  },
  {
   "cell_type": "markdown",
   "metadata": {},
   "source": [
    "reverse indexing works at python"
   ]
  },
  {
   "cell_type": "code",
   "execution_count": 4,
   "metadata": {},
   "outputs": [
    {
     "name": "stdout",
     "output_type": "stream",
     "text": [
      "!\n"
     ]
    }
   ],
   "source": [
    "sentence_2 = \"come here all of you whom belive!\"\n",
    "second_single_char = sentence_2[-1]\n",
    "\n",
    "print(second_single_char)"
   ]
  },
  {
   "cell_type": "markdown",
   "metadata": {},
   "source": [
    "For slicing the syntax is [start:stop:step]"
   ]
  },
  {
   "cell_type": "code",
   "execution_count": 6,
   "metadata": {},
   "outputs": [
    {
     "name": "stdout",
     "output_type": "stream",
     "text": [
      "hello \n",
      " there\n"
     ]
    }
   ],
   "source": [
    "#escape sequence \\n is new line\n",
    "print('hello \\n there')"
   ]
  },
  {
   "cell_type": "code",
   "execution_count": 7,
   "metadata": {},
   "outputs": [
    {
     "name": "stdout",
     "output_type": "stream",
     "text": [
      "hello \t there\n"
     ]
    }
   ],
   "source": [
    "#escape \\t is for tab\n",
    "print(\"hello \\t there\")"
   ]
  },
  {
   "cell_type": "code",
   "execution_count": 8,
   "metadata": {},
   "outputs": [
    {
     "data": {
      "text/plain": [
       "11"
      ]
     },
     "execution_count": 8,
     "metadata": {},
     "output_type": "execute_result"
    }
   ],
   "source": [
    "#check the length of the string\n",
    "len('I am hungry')"
   ]
  },
  {
   "cell_type": "code",
   "execution_count": 16,
   "metadata": {},
   "outputs": [
    {
     "name": "stdout",
     "output_type": "stream",
     "text": [
      " zbiera fakap\n",
      " zbiera fakap!!!\n",
      "kto sieje asap\n"
     ]
    }
   ],
   "source": [
    "words_of_wisdom = 'kto sieje asap, zbiera fakap!!!'\n",
    "\n",
    "# from index to index\n",
    "substring = words_of_wisdom[15:28]\n",
    "print(substring)\n",
    "\n",
    "# from index to the end\n",
    "substring_2 = words_of_wisdom[15:]\n",
    "print(substring_2)\n",
    "\n",
    "# from start up to index\n",
    "substring_3 = words_of_wisdom[:14]\n",
    "print(substring_3)"
   ]
  },
  {
   "cell_type": "markdown",
   "metadata": {},
   "source": [
    "important stop index is up to but not including the char!!"
   ]
  },
  {
   "cell_type": "code",
   "execution_count": 23,
   "metadata": {},
   "outputs": [
    {
     "name": "stdout",
     "output_type": "stream",
     "text": [
      "a1b2c3d4e5\n",
      "abcde\n",
      "12345\n",
      "12\n"
     ]
    }
   ],
   "source": [
    "# whole string\n",
    "words_of_wisdom = 'a1b2c3d4e5'\n",
    "whole_string = words_of_wisdom[::]\n",
    "\n",
    "print(whole_string)\n",
    "\n",
    "# go in steps of x\n",
    "\n",
    "only_letters = words_of_wisdom[::2]\n",
    "print(only_letters)\n",
    "\n",
    "# goes in steps of 2 starting from index 1\n",
    "only_numbers = words_of_wisdom[1::2]\n",
    "print(only_numbers)\n",
    "\n",
    "# goes in steps of 2 starting from index 1 and ending at index 4\n",
    "only_numbers_2 = words_of_wisdom[1:4:2]\n",
    "print(only_numbers_2)"
   ]
  },
  {
   "cell_type": "code",
   "execution_count": 24,
   "metadata": {},
   "outputs": [
    {
     "name": "stdout",
     "output_type": "stream",
     "text": [
      "5e4d3c2b1a\n"
     ]
    }
   ],
   "source": [
    "# we can use the negative step to reverse the string\n",
    "print(words_of_wisdom[::-1])"
   ]
  },
  {
   "cell_type": "code",
   "execution_count": null,
   "metadata": {},
   "outputs": [],
   "source": []
  }
 ],
 "metadata": {
  "kernelspec": {
   "display_name": "Python 3",
   "language": "python",
   "name": "python3"
  },
  "language_info": {
   "codemirror_mode": {
    "name": "ipython",
    "version": 3
   },
   "file_extension": ".py",
   "mimetype": "text/x-python",
   "name": "python",
   "nbconvert_exporter": "python",
   "pygments_lexer": "ipython3",
   "version": "3.8.5"
  }
 },
 "nbformat": 4,
 "nbformat_minor": 4
}
