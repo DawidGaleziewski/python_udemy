{
 "cells": [
  {
   "cell_type": "code",
   "execution_count": 3,
   "metadata": {},
   "outputs": [
    {
     "data": {
      "text/plain": [
       "'Hello my name is Dawid and i am 30 years old'"
      ]
     },
     "execution_count": 3,
     "metadata": {},
     "output_type": "execute_result"
    }
   ],
   "source": [
    "# string interpolation\n",
    "\n",
    "## using .format() method\n",
    "my_name = 'Dawid'\n",
    "my_age = 30\n",
    "'Hello my name is {} and i am {} years old'.format(my_name, my_age)"
   ]
  },
  {
   "cell_type": "code",
   "execution_count": 7,
   "metadata": {},
   "outputs": [
    {
     "data": {
      "text/plain": [
       "'String pt1 = INSERT1, String pt2 = INSERT1, String pt3 = INSERT4, String pt4 = INSERT2'"
      ]
     },
     "execution_count": 7,
     "metadata": {},
     "output_type": "execute_result"
    }
   ],
   "source": [
    "### strings can be inserted at index positions, by providing index in brackets\n",
    "'String pt1 = {0}, String pt2 = {0}, String pt3 = {3}, String pt4 = {1}'.format('INSERT1', 'INSERT2', 'INSERT3', 'INSERT4')"
   ]
  },
  {
   "cell_type": "code",
   "execution_count": 8,
   "metadata": {},
   "outputs": [
    {
     "data": {
      "text/plain": [
       "'https://geolocation.domain/api?lat=20.001&long=61.200'"
      ]
     },
     "execution_count": 8,
     "metadata": {},
     "output_type": "execute_result"
    }
   ],
   "source": [
    "### using keys to interpolate\n",
    "'https://{BASE_URL}/api?lat={lat}&long={long}'.format(BASE_URL = 'geolocation.domain', lat='20.001', long= '61.200')"
   ]
  },
  {
   "cell_type": "code",
   "execution_count": 17,
   "metadata": {},
   "outputs": [
    {
     "name": "stdout",
     "output_type": "stream",
     "text": [
      "0.1287001287001287\n",
      "result was: 0.129\n"
     ]
    }
   ],
   "source": [
    "## float formatting {value:width.precision f}\n",
    "### width is the white space\n",
    "result = 100/777\n",
    "print(result)\n",
    "print('result was: {r:1.3f}'.format(r = result))"
   ]
  },
  {
   "cell_type": "code",
   "execution_count": 18,
   "metadata": {},
   "outputs": [
    {
     "name": "stdout",
     "output_type": "stream",
     "text": [
      "Hello his name is Jose\n"
     ]
    }
   ],
   "source": [
    "## this is new method for python 3.7 f'string {variable}'\n",
    "name= 'Jose'\n",
    "print(f'Hello his name is {name}')"
   ]
  },
  {
   "cell_type": "code",
   "execution_count": 20,
   "metadata": {},
   "outputs": [
    {
     "name": "stdout",
     "output_type": "stream",
     "text": [
      "Sam is 30 years old\n"
     ]
    }
   ],
   "source": [
    "name= 'Sam'\n",
    "age = 30\n",
    "\n",
    "print(f'{name} is {age} years old')"
   ]
  },
  {
   "cell_type": "code",
   "execution_count": 21,
   "metadata": {},
   "outputs": [
    {
     "data": {
      "text/plain": [
       "'https://geolocation.domain/api?lat=20.001&long=61.200'"
      ]
     },
     "execution_count": 21,
     "metadata": {},
     "output_type": "execute_result"
    }
   ],
   "source": [
    "BASE_URL = 'geolocation.domain'\n",
    "lat='20.001'\n",
    "long= '61.200'\n",
    "\n",
    "f'https://{BASE_URL}/api?lat={lat}&long={long}'"
   ]
  },
  {
   "cell_type": "code",
   "execution_count": null,
   "metadata": {},
   "outputs": [],
   "source": []
  }
 ],
 "metadata": {
  "kernelspec": {
   "display_name": "Python 3",
   "language": "python",
   "name": "python3"
  },
  "language_info": {
   "codemirror_mode": {
    "name": "ipython",
    "version": 3
   },
   "file_extension": ".py",
   "mimetype": "text/x-python",
   "name": "python",
   "nbconvert_exporter": "python",
   "pygments_lexer": "ipython3",
   "version": "3.8.5"
  }
 },
 "nbformat": 4,
 "nbformat_minor": 4
}
